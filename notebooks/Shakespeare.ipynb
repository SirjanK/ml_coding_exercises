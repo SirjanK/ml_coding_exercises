{
 "cells": [
  {
   "cell_type": "markdown",
   "id": "0111bbea",
   "metadata": {},
   "source": [
    "# Shakespeare NanoGPT Reimplementation\n",
    "This is a reimplementation of the Shakespeare NanoGPT example from the original NanoGPT repository."
   ]
  },
  {
   "cell_type": "code",
   "execution_count": null,
   "id": "b72d33a1",
   "metadata": {},
   "outputs": [],
   "source": []
  },
  {
   "cell_type": "code",
   "execution_count": null,
   "id": "1a07553b",
   "metadata": {},
   "outputs": [],
   "source": []
  },
  {
   "cell_type": "code",
   "execution_count": null,
   "id": "5f03820c",
   "metadata": {},
   "outputs": [],
   "source": []
  },
  {
   "cell_type": "code",
   "execution_count": null,
   "id": "fc569fc4",
   "metadata": {},
   "outputs": [],
   "source": []
  },
  {
   "cell_type": "code",
   "execution_count": null,
   "id": "38c85b9b",
   "metadata": {},
   "outputs": [],
   "source": []
  },
  {
   "cell_type": "code",
   "execution_count": null,
   "id": "aa9a875c",
   "metadata": {},
   "outputs": [],
   "source": []
  },
  {
   "cell_type": "code",
   "execution_count": null,
   "id": "3ebf60e5",
   "metadata": {},
   "outputs": [],
   "source": []
  },
  {
   "cell_type": "code",
   "execution_count": null,
   "id": "28c0573f",
   "metadata": {},
   "outputs": [],
   "source": []
  },
  {
   "cell_type": "markdown",
   "id": "cbe2fe1a",
   "metadata": {},
   "source": [
    "## Playground (to delete)"
   ]
  },
  {
   "cell_type": "code",
   "execution_count": 5,
   "id": "2045aeb1",
   "metadata": {},
   "outputs": [],
   "source": [
    "# load the vocab and encoded data\n",
    "import os\n",
    "DATA_PATH = \"/Users/sirjankafle/learning/ml_coding_exercises/shakespeare/data\"\n",
    "vocab = list(open(os.path.join(DATA_PATH, 'vocab.txt'), 'r').read())\n",
    "assert len(vocab) == 65"
   ]
  },
  {
   "cell_type": "code",
   "execution_count": 28,
   "id": "e542a799",
   "metadata": {},
   "outputs": [],
   "source": [
    "import numpy as np\n",
    "encoded = np.load(os.path.join(DATA_PATH, 'encoded.npy'))"
   ]
  },
  {
   "cell_type": "code",
   "execution_count": 29,
   "id": "730dd3e3",
   "metadata": {},
   "outputs": [
    {
     "data": {
      "text/plain": [
       "1115394"
      ]
     },
     "execution_count": 29,
     "metadata": {},
     "output_type": "execute_result"
    }
   ],
   "source": [
    "len(encoded)"
   ]
  },
  {
   "cell_type": "code",
   "execution_count": null,
   "id": "bb39a670",
   "metadata": {},
   "outputs": [],
   "source": [
    "text = open(os.path.join(DATA_PATH, 'input.txt'), 'r').read()"
   ]
  },
  {
   "cell_type": "code",
   "execution_count": 12,
   "id": "66f91b98",
   "metadata": {},
   "outputs": [
    {
     "data": {
      "text/plain": [
       "1115394"
      ]
     },
     "execution_count": 12,
     "metadata": {},
     "output_type": "execute_result"
    }
   ],
   "source": [
    "len(text)"
   ]
  },
  {
   "cell_type": "code",
   "execution_count": 13,
   "id": "e8731185",
   "metadata": {},
   "outputs": [
    {
     "data": {
      "text/plain": [
       "278848"
      ]
     },
     "execution_count": 13,
     "metadata": {},
     "output_type": "execute_result"
    }
   ],
   "source": [
    "len(encoded)"
   ]
  },
  {
   "cell_type": "code",
   "execution_count": 17,
   "id": "741acf2f",
   "metadata": {},
   "outputs": [],
   "source": [
    "# add path\n",
    "import sys\n",
    "sys.path.append('/Users/sirjankafle/learning/ml_coding_exercises')\n",
    "from shakespeare.tokenize import Tokenizer"
   ]
  },
  {
   "cell_type": "code",
   "execution_count": 18,
   "id": "bb78ad3b",
   "metadata": {},
   "outputs": [],
   "source": [
    "tokenizer = Tokenizer(vocab)"
   ]
  },
  {
   "cell_type": "code",
   "execution_count": 23,
   "id": "270741c9",
   "metadata": {},
   "outputs": [],
   "source": [
    "data = tokenizer.encode(text)"
   ]
  },
  {
   "cell_type": "code",
   "execution_count": 24,
   "id": "b2443ee6",
   "metadata": {},
   "outputs": [
    {
     "data": {
      "text/plain": [
       "1115394"
      ]
     },
     "execution_count": 24,
     "metadata": {},
     "output_type": "execute_result"
    }
   ],
   "source": [
    "len(data)"
   ]
  },
  {
   "cell_type": "code",
   "execution_count": 30,
   "id": "c0902b07",
   "metadata": {},
   "outputs": [],
   "source": [
    "assert tokenizer.decode(encoded) == text"
   ]
  },
  {
   "cell_type": "code",
   "execution_count": null,
   "id": "464c1723",
   "metadata": {},
   "outputs": [],
   "source": []
  }
 ],
 "metadata": {
  "kernelspec": {
   "display_name": "ml_coding",
   "language": "python",
   "name": "python3"
  },
  "language_info": {
   "codemirror_mode": {
    "name": "ipython",
    "version": 3
   },
   "file_extension": ".py",
   "mimetype": "text/x-python",
   "name": "python",
   "nbconvert_exporter": "python",
   "pygments_lexer": "ipython3",
   "version": "3.11.11"
  }
 },
 "nbformat": 4,
 "nbformat_minor": 5
}
